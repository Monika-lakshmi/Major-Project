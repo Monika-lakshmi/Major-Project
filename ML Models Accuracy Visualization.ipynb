{
 "cells": [
  {
   "cell_type": "code",
   "execution_count": 1,
   "metadata": {},
   "outputs": [],
   "source": [
    "#!pip install matplotlib\n",
    "#!pip install seaborn\n",
    "import pandas as pd\n",
    "from nltk.corpus import stopwords\n",
    "from nltk.stem.porter import PorterStemmer\n",
    "import re\n",
    "import nltk\n",
    "from sklearn.feature_extraction.text import CountVectorizer\n",
    "from sklearn.feature_extraction.text import HashingVectorizer\n",
    "import matplotlib.pyplot as plt\n",
    "from sklearn.model_selection import train_test_split\n",
    "import seaborn as sns\n",
    "from sklearn.feature_extraction.text import TfidfVectorizer\n",
    "from sklearn.neighbors import KNeighborsClassifier\n",
    "from sklearn.ensemble import RandomForestClassifier, AdaBoostClassifier\n",
    "from sklearn.naive_bayes import MultinomialNB\n",
    "from sklearn.svm import SVC"
   ]
  },
  {
   "cell_type": "code",
   "execution_count": 2,
   "metadata": {},
   "outputs": [],
   "source": [
    "#!pip install install openpyxl\n",
    "df = pd.read_excel('dataset.xlsx', engine='openpyxl')\n"
   ]
  },
  {
   "cell_type": "code",
   "execution_count": 3,
   "metadata": {},
   "outputs": [],
   "source": [
    "df = df[:3000]"
   ]
  },
  {
   "cell_type": "code",
   "execution_count": 4,
   "metadata": {},
   "outputs": [
    {
     "data": {
      "text/plain": [
       "1    110\n",
       "0     91\n",
       "Name: label, dtype: int64"
      ]
     },
     "execution_count": 4,
     "metadata": {},
     "output_type": "execute_result"
    }
   ],
   "source": [
    "df.label.value_counts()"
   ]
  },
  {
   "cell_type": "code",
   "execution_count": 5,
   "metadata": {},
   "outputs": [
    {
     "data": {
      "text/plain": [
       "(201, 2)"
      ]
     },
     "execution_count": 5,
     "metadata": {},
     "output_type": "execute_result"
    }
   ],
   "source": [
    "df.shape"
   ]
  },
  {
   "cell_type": "code",
   "execution_count": 6,
   "metadata": {},
   "outputs": [],
   "source": [
    "df = df.sample(frac = 1)"
   ]
  },
  {
   "cell_type": "code",
   "execution_count": 7,
   "metadata": {},
   "outputs": [
    {
     "data": {
      "text/html": [
       "<div>\n",
       "<style scoped>\n",
       "    .dataframe tbody tr th:only-of-type {\n",
       "        vertical-align: middle;\n",
       "    }\n",
       "\n",
       "    .dataframe tbody tr th {\n",
       "        vertical-align: top;\n",
       "    }\n",
       "\n",
       "    .dataframe thead th {\n",
       "        text-align: right;\n",
       "    }\n",
       "</style>\n",
       "<table border=\"1\" class=\"dataframe\">\n",
       "  <thead>\n",
       "    <tr style=\"text-align: right;\">\n",
       "      <th></th>\n",
       "      <th>text</th>\n",
       "      <th>label</th>\n",
       "    </tr>\n",
       "  </thead>\n",
       "  <tbody>\n",
       "    <tr>\n",
       "      <th>82</th>\n",
       "      <td>Oh God, why is it so hard to get to know new p...</td>\n",
       "      <td>1</td>\n",
       "    </tr>\n",
       "    <tr>\n",
       "      <th>107</th>\n",
       "      <td>Panic, restlessness right now “ˆ</td>\n",
       "      <td>1</td>\n",
       "    </tr>\n",
       "    <tr>\n",
       "      <th>45</th>\n",
       "      <td>Need to get rid of various kinds of thoughts t...</td>\n",
       "      <td>1</td>\n",
       "    </tr>\n",
       "    <tr>\n",
       "      <th>75</th>\n",
       "      <td>I'm worried that the bad effects make my head ...</td>\n",
       "      <td>1</td>\n",
       "    </tr>\n",
       "    <tr>\n",
       "      <th>55</th>\n",
       "      <td>I haven't slept well for 2 days, it's like I'm...</td>\n",
       "      <td>1</td>\n",
       "    </tr>\n",
       "  </tbody>\n",
       "</table>\n",
       "</div>"
      ],
      "text/plain": [
       "                                                  text  label\n",
       "82   Oh God, why is it so hard to get to know new p...      1\n",
       "107                   Panic, restlessness right now “ˆ      1\n",
       "45   Need to get rid of various kinds of thoughts t...      1\n",
       "75   I'm worried that the bad effects make my head ...      1\n",
       "55   I haven't slept well for 2 days, it's like I'm...      1"
      ]
     },
     "execution_count": 7,
     "metadata": {},
     "output_type": "execute_result"
    }
   ],
   "source": [
    "df.head()"
   ]
  },
  {
   "cell_type": "code",
   "execution_count": 8,
   "metadata": {},
   "outputs": [
    {
     "data": {
      "text/plain": [
       "text     0\n",
       "label    0\n",
       "dtype: int64"
      ]
     },
     "execution_count": 8,
     "metadata": {},
     "output_type": "execute_result"
    }
   ],
   "source": [
    "df.isnull().sum()"
   ]
  },
  {
   "cell_type": "code",
   "execution_count": 9,
   "metadata": {},
   "outputs": [
    {
     "data": {
      "text/html": [
       "<div>\n",
       "<style scoped>\n",
       "    .dataframe tbody tr th:only-of-type {\n",
       "        vertical-align: middle;\n",
       "    }\n",
       "\n",
       "    .dataframe tbody tr th {\n",
       "        vertical-align: top;\n",
       "    }\n",
       "\n",
       "    .dataframe thead th {\n",
       "        text-align: right;\n",
       "    }\n",
       "</style>\n",
       "<table border=\"1\" class=\"dataframe\">\n",
       "  <thead>\n",
       "    <tr style=\"text-align: right;\">\n",
       "      <th></th>\n",
       "      <th>text</th>\n",
       "      <th>label</th>\n",
       "    </tr>\n",
       "  </thead>\n",
       "  <tbody>\n",
       "    <tr>\n",
       "      <th>82</th>\n",
       "      <td>Oh God, why is it so hard to get to know new p...</td>\n",
       "      <td>1</td>\n",
       "    </tr>\n",
       "    <tr>\n",
       "      <th>107</th>\n",
       "      <td>Panic, restlessness right now “ˆ</td>\n",
       "      <td>1</td>\n",
       "    </tr>\n",
       "    <tr>\n",
       "      <th>45</th>\n",
       "      <td>Need to get rid of various kinds of thoughts t...</td>\n",
       "      <td>1</td>\n",
       "    </tr>\n",
       "    <tr>\n",
       "      <th>75</th>\n",
       "      <td>I'm worried that the bad effects make my head ...</td>\n",
       "      <td>1</td>\n",
       "    </tr>\n",
       "    <tr>\n",
       "      <th>55</th>\n",
       "      <td>I haven't slept well for 2 days, it's like I'm...</td>\n",
       "      <td>1</td>\n",
       "    </tr>\n",
       "    <tr>\n",
       "      <th>...</th>\n",
       "      <td>...</td>\n",
       "      <td>...</td>\n",
       "    </tr>\n",
       "    <tr>\n",
       "      <th>43</th>\n",
       "      <td>been the most anxious before being the most si...</td>\n",
       "      <td>1</td>\n",
       "    </tr>\n",
       "    <tr>\n",
       "      <th>189</th>\n",
       "      <td>embarassing.</td>\n",
       "      <td>0</td>\n",
       "    </tr>\n",
       "    <tr>\n",
       "      <th>17</th>\n",
       "      <td>I swear I was happy this time, eh, tbtb, I was...</td>\n",
       "      <td>1</td>\n",
       "    </tr>\n",
       "    <tr>\n",
       "      <th>18</th>\n",
       "      <td>I'm too worried, it's just a weekly event</td>\n",
       "      <td>1</td>\n",
       "    </tr>\n",
       "    <tr>\n",
       "      <th>63</th>\n",
       "      <td>Anxious</td>\n",
       "      <td>1</td>\n",
       "    </tr>\n",
       "  </tbody>\n",
       "</table>\n",
       "<p>201 rows × 2 columns</p>\n",
       "</div>"
      ],
      "text/plain": [
       "                                                  text  label\n",
       "82   Oh God, why is it so hard to get to know new p...      1\n",
       "107                   Panic, restlessness right now “ˆ      1\n",
       "45   Need to get rid of various kinds of thoughts t...      1\n",
       "75   I'm worried that the bad effects make my head ...      1\n",
       "55   I haven't slept well for 2 days, it's like I'm...      1\n",
       "..                                                 ...    ...\n",
       "43   been the most anxious before being the most si...      1\n",
       "189                                       embarassing.      0\n",
       "17   I swear I was happy this time, eh, tbtb, I was...      1\n",
       "18           I'm too worried, it's just a weekly event      1\n",
       "63                                             Anxious      1\n",
       "\n",
       "[201 rows x 2 columns]"
      ]
     },
     "execution_count": 9,
     "metadata": {},
     "output_type": "execute_result"
    }
   ],
   "source": [
    "df.dropna()"
   ]
  },
  {
   "cell_type": "code",
   "execution_count": 10,
   "metadata": {},
   "outputs": [
    {
     "name": "stderr",
     "output_type": "stream",
     "text": [
      "C:\\Users\\DELL\\AppData\\Roaming\\Python\\Python36\\site-packages\\seaborn\\_decorators.py:43: FutureWarning: Pass the following variable as a keyword arg: x. From version 0.12, the only valid positional argument will be `data`, and passing other arguments without an explicit keyword will result in an error or misinterpretation.\n",
      "  FutureWarning\n"
     ]
    },
    {
     "data": {
      "text/plain": [
       "<AxesSubplot:xlabel='label', ylabel='count'>"
      ]
     },
     "execution_count": 10,
     "metadata": {},
     "output_type": "execute_result"
    },
    {
     "data": {
      "image/png": "[encoded data removed]",
      "text/plain": [
       "<Figure size 432x288 with 1 Axes>"
      ]
     },
     "metadata": {
      "needs_background": "light"
     },
     "output_type": "display_data"
    }
   ],
   "source": [
    "sns.countplot(df.label)"
   ]
  },
  {
   "cell_type": "code",
   "execution_count": 11,
   "metadata": {},
   "outputs": [],
   "source": [
    "#!pip install spacy\n",
    "import nltk\n",
    "from nltk.corpus import stopwords\n",
    "from nltk.stem import WordNetLemmatizer\n",
    "import spacy\n",
    "lm = WordNetLemmatizer()"
   ]
  },
  {
   "cell_type": "code",
   "execution_count": 12,
   "metadata": {},
   "outputs": [
    {
     "name": "stderr",
     "output_type": "stream",
     "text": [
      "[nltk_data] Downloading package omw-1.4 to\n",
      "[nltk_data]     C:\\Users\\DELL\\AppData\\Roaming\\nltk_data...\n",
      "[nltk_data]   Package omw-1.4 is already up-to-date!\n",
      "[nltk_data] Downloading package wordnet to\n",
      "[nltk_data]     C:\\Users\\DELL\\AppData\\Roaming\\nltk_data...\n",
      "[nltk_data]   Package wordnet is already up-to-date!\n"
     ]
    },
    {
     "data": {
      "text/plain": [
       "True"
      ]
     },
     "execution_count": 12,
     "metadata": {},
     "output_type": "execute_result"
    }
   ],
   "source": [
    "nltk.download('omw-1.4')\n",
    "nltk.download('wordnet')"
   ]
  },
  {
   "cell_type": "code",
   "execution_count": 13,
   "metadata": {},
   "outputs": [],
   "source": [
    "def text_transformation(col):\n",
    "    corpus = []\n",
    "    for token in col:\n",
    "        alphabet = re.sub('[^a-zA-Z]',' ',str(token))\n",
    "        alphabet = alphabet.lower()\n",
    "        alphabet = alphabet.split()\n",
    "        a_lemmas = [lm.lemmatize(word) for word in alphabet if word not in set(stopwords.words('english'))]\n",
    "        corpus.append(' '.join(str(x) for x in a_lemmas))\n",
    "    return corpus"
   ]
  },
  {
   "cell_type": "code",
   "execution_count": 14,
   "metadata": {},
   "outputs": [],
   "source": [
    "df['cleaned'] = text_transformation(df.text)"
   ]
  },
  {
   "cell_type": "code",
   "execution_count": 15,
   "metadata": {},
   "outputs": [],
   "source": [
    "X = df.cleaned\n",
    "y = df.label.astype(int)"
   ]
  },
  {
   "cell_type": "code",
   "execution_count": 16,
   "metadata": {},
   "outputs": [],
   "source": [
    "vect = TfidfVectorizer(max_features = 20000 , lowercase=False , ngram_range=(1,2),use_idf = True)"
   ]
  },
  {
   "cell_type": "code",
   "execution_count": 17,
   "metadata": {},
   "outputs": [],
   "source": [
    "X_tfidf =vect.fit_transform(X).toarray()"
   ]
  },
  {
   "cell_type": "code",
   "execution_count": 18,
   "metadata": {},
   "outputs": [],
   "source": [
    "from sklearn.model_selection import train_test_split\n",
    "X_train,X_test,y_train,y_test = train_test_split(X_tfidf,y,stratify = y,test_size = 0.2,random_state = 1)"
   ]
  },
  {
   "cell_type": "code",
   "execution_count": 19,
   "metadata": {},
   "outputs": [],
   "source": [
    "from sklearn.metrics import classification_report,confusion_matrix,accuracy_score"
   ]
  },
  {
   "cell_type": "code",
   "execution_count": 20,
   "metadata": {},
   "outputs": [
    {
     "name": "stdout",
     "output_type": "stream",
     "text": [
      "Best hyperparameters for Naive Bayes: {}\n",
      "Evaluation metrics for Naive Bayes:\n",
      "Accuracy: 0.7317073170731707\n",
      "K-fold cross-validation accuracy: 0.65\n",
      "AUC Score: 0.7105263157894737\n",
      "Best hyperparameters for KNN: {'n_neighbors': 3}\n",
      "Evaluation metrics for KNN:\n",
      "Accuracy: 0.8048780487804879\n",
      "K-fold cross-validation accuracy: 0.7375\n",
      "AUC Score: 0.8181818181818181\n",
      "Best hyperparameters for Logistic Regression: {'C': 10}\n",
      "Evaluation metrics for Logistic Regression:\n",
      "Accuracy: 0.926829268292683\n",
      "K-fold cross-validation accuracy: 0.85\n",
      "AUC Score: 0.9318181818181819\n",
      "Best hyperparameters for Support Vector Machine: {'C': 10}\n",
      "Evaluation metrics for Support Vector Machine:\n",
      "Accuracy: 0.9024390243902439\n",
      "K-fold cross-validation accuracy: 0.85625\n",
      "AUC Score: 0.9019138755980862\n",
      "Best hyperparameters for Decision Tree: {'max_depth': 7}\n",
      "Evaluation metrics for Decision Tree:\n",
      "Accuracy: 0.9512195121951219\n",
      "K-fold cross-validation accuracy: 1.0\n",
      "AUC Score: 0.9545454545454546\n",
      "Best hyperparameters for Random Forest: {'max_depth': 7}\n",
      "Evaluation metrics for Random Forest:\n",
      "Accuracy: 0.926829268292683\n",
      "K-fold cross-validation accuracy: 0.88125\n",
      "AUC Score: 0.9318181818181819\n",
      "Best hyperparameters for AdaBoost: {'n_estimators': 50}\n",
      "Evaluation metrics for AdaBoost:\n",
      "Accuracy: 0.9512195121951219\n",
      "K-fold cross-validation accuracy: 0.9875\n",
      "AUC Score: 0.9545454545454546\n",
      "Best hyperparameters for Gradient Boosting: {'n_estimators': 50}\n",
      "Evaluation metrics for Gradient Boosting:\n",
      "Accuracy: 0.9512195121951219\n",
      "K-fold cross-validation accuracy: 0.98125\n",
      "AUC Score: 0.9545454545454546\n",
      "Best hyperparameters for Voting Classifier: {}\n",
      "Evaluation metrics for Voting Classifier:\n",
      "Accuracy: 0.9512195121951219\n",
      "K-fold cross-validation accuracy: 0.96875\n",
      "AUC Score: 0.9545454545454546\n"
     ]
    }
   ],
   "source": [
    "from sklearn.model_selection import GridSearchCV, cross_val_score\n",
    "from sklearn.metrics import accuracy_score, roc_auc_score\n",
    "from sklearn.linear_model import LogisticRegression\n",
    "from sklearn.naive_bayes import MultinomialNB\n",
    "from sklearn.tree import DecisionTreeClassifier\n",
    "from sklearn.ensemble import RandomForestClassifier, AdaBoostClassifier, GradientBoostingClassifier, VotingClassifier\n",
    "from sklearn.svm import SVC\n",
    "from sklearn.neighbors import KNeighborsClassifier\n",
    "\n",
    "# Define classifiers\n",
    "classifiers = {\n",
    "    'Naive Bayes': MultinomialNB(),\n",
    "    'KNN': KNeighborsClassifier(),\n",
    "    'Logistic Regression': LogisticRegression(class_weight='balanced', max_iter=400),\n",
    "    'Support Vector Machine': SVC(class_weight='balanced'),\n",
    "    'Decision Tree': DecisionTreeClassifier(class_weight='balanced'),\n",
    "    'Random Forest': RandomForestClassifier(class_weight='balanced'),\n",
    "    'AdaBoost': AdaBoostClassifier(),\n",
    "    'Gradient Boosting': GradientBoostingClassifier(),\n",
    "    'Voting Classifier': VotingClassifier(estimators=[\n",
    "        ('lr', LogisticRegression(class_weight='balanced', max_iter=400)),\n",
    "        ('dt', DecisionTreeClassifier(class_weight='balanced')),\n",
    "        ('rf', RandomForestClassifier(class_weight='balanced')),\n",
    "        ('mnb', MultinomialNB()),\n",
    "        ('svm', SVC(class_weight='balanced')),\n",
    "        ('knn', KNeighborsClassifier()),\n",
    "        ('ada', AdaBoostClassifier()),\n",
    "        ('gb', GradientBoostingClassifier())\n",
    "    ], voting='hard')\n",
    "}\n",
    "\n",
    "# Perform GridSearchCV for each classifier\n",
    "for clf_name, clf in classifiers.items():\n",
    "    # Define hyperparameters for grid search\n",
    "    param_grid = {}\n",
    "    if clf_name in ['Logistic Regression', 'Support Vector Machine']:\n",
    "        param_grid = {'C': [0.1, 1, 10]}\n",
    "    elif clf_name in ['KNN']:\n",
    "        param_grid = {'n_neighbors': [3, 5, 7]}\n",
    "    elif clf_name in ['Decision Tree', 'Random Forest']:\n",
    "        param_grid = {'max_depth': [3, 5, 7]}\n",
    "    elif clf_name in ['AdaBoost', 'Gradient Boosting']:\n",
    "        param_grid = {'n_estimators': [50, 100, 150]}\n",
    "    \n",
    "    # Perform GridSearchCV\n",
    "    grid_search = GridSearchCV(clf, param_grid, cv=5, scoring='accuracy')\n",
    "    grid_search.fit(X_train, y_train)\n",
    "    \n",
    "    # Print best hyperparameters\n",
    "    print(f\"Best hyperparameters for {clf_name}: {grid_search.best_params_}\")\n",
    "    \n",
    "    # Train the model with best hyperparameters\n",
    "    best_clf = grid_search.best_estimator_\n",
    "    best_clf.fit(X_train, y_train)\n",
    "    \n",
    "    # Evaluate the model\n",
    "    y_pred = best_clf.predict(X_test)\n",
    "    accuracy = accuracy_score(y_test, y_pred)\n",
    "    auc_score = roc_auc_score(y_test, y_pred)\n",
    "    k_fold_accuracy = cross_val_score(best_clf, X_train, y_train, cv=5, scoring='accuracy').mean()\n",
    "    \n",
    "    # Print evaluation metrics\n",
    "    print(f\"Evaluation metrics for {clf_name}:\")\n",
    "    print(f\"Accuracy: {accuracy}\")\n",
    "    print(f\"K-fold cross-validation accuracy: {k_fold_accuracy}\")\n",
    "    print(f\"AUC Score: {auc_score}\")\n"
   ]
  }
 ],
 "metadata": {
  "kernelspec": {
   "display_name": "Python 3 (ipykernel)",
   "language": "python",
   "name": "python3"
  },
  "language_info": {
   "codemirror_mode": {
    "name": "ipython",
    "version": 3
   },
   "file_extension": ".py",
   "mimetype": "text/x-python",
   "name": "python",
   "nbconvert_exporter": "python",
   "pygments_lexer": "ipython3",
   "version": "3.6.7"
  }
 },
 "nbformat": 4,
 "nbformat_minor": 4
}
